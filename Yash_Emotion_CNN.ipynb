{
  "metadata": {
    "kernelspec": {
      "language": "python",
      "display_name": "Python 3",
      "name": "python3"
    },
    "language_info": {
      "name": "python",
      "version": "3.10.12",
      "mimetype": "text/x-python",
      "codemirror_mode": {
        "name": "ipython",
        "version": 3
      },
      "pygments_lexer": "ipython3",
      "nbconvert_exporter": "python",
      "file_extension": ".py"
    },
    "kaggle": {
      "accelerator": "none",
      "dataSources": [
        {
          "sourceId": 1351797,
          "sourceType": "datasetVersion",
          "datasetId": 786787
        }
      ],
      "dockerImageVersionId": 30839,
      "isInternetEnabled": false,
      "language": "python",
      "sourceType": "notebook",
      "isGpuEnabled": false
    },
    "colab": {
      "name": "Yash Emotion CNN",
      "provenance": [],
      "include_colab_link": true
    }
  },
  "nbformat_minor": 0,
  "nbformat": 4,
  "cells": [
    {
      "cell_type": "markdown",
      "metadata": {
        "id": "view-in-github",
        "colab_type": "text"
      },
      "source": [
        "<a href=\"https://colab.research.google.com/github/yashg2468/CAIS-_Winter_Project_Yash/blob/main/Yash_Emotion_CNN.ipynb\" target=\"_parent\"><img src=\"https://colab.research.google.com/assets/colab-badge.svg\" alt=\"Open In Colab\"/></a>"
      ]
    },
    {
      "source": [
        "# IMPORTANT: RUN THIS CELL IN ORDER TO IMPORT YOUR KAGGLE DATA SOURCES,\n",
        "# THEN FEEL FREE TO DELETE THIS CELL.\n",
        "# NOTE: THIS NOTEBOOK ENVIRONMENT DIFFERS FROM KAGGLE'S PYTHON\n",
        "# ENVIRONMENT SO THERE MAY BE MISSING LIBRARIES USED BY YOUR\n",
        "# NOTEBOOK.\n",
        "import kagglehub\n",
        "msambare_fer2013_path = kagglehub.dataset_download('msambare/fer2013')\n",
        "\n",
        "print('Data source import complete.')\n"
      ],
      "metadata": {
        "id": "M3LcBvZw-4p3"
      },
      "cell_type": "code",
      "outputs": [],
      "execution_count": null
    },
    {
      "cell_type": "code",
      "source": [
        "\n",
        "for dirname, _, filenames in os.walk('/kaggle/input/fer2013/train'):\n",
        "    for filename in filenames:\n",
        "        print(os.path.join(dirname, filename))\n",
        "for dirname, _, filenames in os.walk('/kaggle/input/fer2013/test'):\n",
        "    for filename in filenames:\n",
        "        print(os.path.join(dirname, filename))\n",
        "# You can write up to 20GB to the current directory (/kaggle/working/) that gets preserved as output when you create a version using \"Save & Run All\"\n",
        "# You can also write temporary files to /kaggle/temp/, but they won't be saved outside of the current session"
      ],
      "metadata": {
        "_uuid": "8f2839f25d086af736a60e9eeb907d3b93b6e0e5",
        "_cell_guid": "b1076dfc-b9ad-4769-8c92-a6c4dae69d19",
        "trusted": true,
        "_kg_hide-input": true,
        "_kg_hide-output": false,
        "id": "QHiTxig6-4p5"
      },
      "outputs": [],
      "execution_count": null
    },
    {
      "cell_type": "code",
      "source": [
        "\n",
        "import matplotlib.pyplot as plt\n",
        "import numpy as np\n",
        "import pandas as pd\n",
        "import torch\n",
        "import torchvision\n",
        "import torchvision.transforms as transforms\n",
        "from torch.utils.data import DataLoader\n",
        "from torchvision import datasets\n",
        "\n",
        "import os"
      ],
      "metadata": {
        "trusted": true,
        "execution": {
          "iopub.status.busy": "2025-01-22T05:00:17.284946Z",
          "iopub.execute_input": "2025-01-22T05:00:17.285429Z",
          "iopub.status.idle": "2025-01-22T05:00:17.291387Z",
          "shell.execute_reply.started": "2025-01-22T05:00:17.285388Z",
          "shell.execute_reply": "2025-01-22T05:00:17.29019Z"
        },
        "id": "KTL2XEHE-4p5"
      },
      "outputs": [],
      "execution_count": null
    },
    {
      "cell_type": "code",
      "source": [
        "my_transform = transforms.Compose([\n",
        "    transforms.Grayscale(num_output_channels=1),\n",
        "    #although the images are grayscale, there is a third dimension which we will remove\n",
        "    transforms.ToTensor(),\n",
        "    transforms.Normalize((0.5,), (0.5,)),\n",
        "    transforms.Resize((48,48))\n",
        "])"
      ],
      "metadata": {
        "trusted": true,
        "execution": {
          "iopub.status.busy": "2025-01-22T04:29:51.574741Z",
          "iopub.execute_input": "2025-01-22T04:29:51.575136Z",
          "iopub.status.idle": "2025-01-22T04:29:51.580327Z",
          "shell.execute_reply.started": "2025-01-22T04:29:51.575108Z",
          "shell.execute_reply": "2025-01-22T04:29:51.579231Z"
        },
        "id": "iSASw1IJ-4p5"
      },
      "outputs": [],
      "execution_count": null
    },
    {
      "cell_type": "code",
      "source": [
        "train_path = '/kaggle/input/fer2013/train'\n",
        "test_path = '/kaggle/input/fer2013/test'\n",
        "train_data = datasets.ImageFolder(root=train_path, transform=my_transform)\n",
        "test_data = datasets.ImageFolder(root=test_path, transform=my_transform)\n",
        "train_loader = DataLoader(train_data, batch_size=32, shuffle=True)\n",
        "test_loader = DataLoader(test_data, batch_size=1, shuffle=False)"
      ],
      "metadata": {
        "trusted": true,
        "execution": {
          "iopub.status.busy": "2025-01-22T05:38:24.712681Z",
          "iopub.execute_input": "2025-01-22T05:38:24.713055Z",
          "iopub.status.idle": "2025-01-22T05:39:00.513609Z",
          "shell.execute_reply.started": "2025-01-22T05:38:24.713021Z",
          "shell.execute_reply": "2025-01-22T05:39:00.51245Z"
        },
        "id": "TXeT9bL7-4p5"
      },
      "outputs": [],
      "execution_count": null
    },
    {
      "cell_type": "code",
      "source": [
        "counts = [0,0,0,0,0,0,0]\n",
        "j = 0\n",
        "for i, data in enumerate(train_loader, 0):\n",
        "    inputs, label = data\n",
        "    #print(label)\n",
        "    counts[label[j]] += 1\n",
        "    j+=1\n",
        "    if(j==31): j = 0\n",
        "\n",
        "print(counts)"
      ],
      "metadata": {
        "trusted": true,
        "execution": {
          "iopub.status.busy": "2025-01-22T03:47:16.3924Z",
          "iopub.execute_input": "2025-01-22T03:47:16.392855Z",
          "iopub.status.idle": "2025-01-22T03:47:54.809378Z",
          "shell.execute_reply.started": "2025-01-22T03:47:16.392824Z",
          "shell.execute_reply": "2025-01-22T03:47:54.807515Z"
        },
        "id": "GIk57Omi-4p5",
        "outputId": "2e715392-850a-4248-b8ee-2cffdb4e8858"
      },
      "outputs": [
        {
          "traceback": [
            "\u001b[0;31m---------------------------------------------------------------------------\u001b[0m",
            "\u001b[0;31mIndexError\u001b[0m                                Traceback (most recent call last)",
            "\u001b[0;32m<ipython-input-28-e087ab9b0b60>\u001b[0m in \u001b[0;36m<cell line: 3>\u001b[0;34m()\u001b[0m\n\u001b[1;32m      4\u001b[0m     \u001b[0minputs\u001b[0m\u001b[0;34m,\u001b[0m \u001b[0mlabel\u001b[0m \u001b[0;34m=\u001b[0m \u001b[0mdata\u001b[0m\u001b[0;34m\u001b[0m\u001b[0;34m\u001b[0m\u001b[0m\n\u001b[1;32m      5\u001b[0m     \u001b[0;31m#print(label)\u001b[0m\u001b[0;34m\u001b[0m\u001b[0;34m\u001b[0m\u001b[0m\n\u001b[0;32m----> 6\u001b[0;31m     \u001b[0mcounts\u001b[0m\u001b[0;34m[\u001b[0m\u001b[0mlabel\u001b[0m\u001b[0;34m[\u001b[0m\u001b[0mj\u001b[0m\u001b[0;34m]\u001b[0m\u001b[0;34m]\u001b[0m \u001b[0;34m+=\u001b[0m \u001b[0;36m1\u001b[0m\u001b[0;34m\u001b[0m\u001b[0;34m\u001b[0m\u001b[0m\n\u001b[0m\u001b[1;32m      7\u001b[0m     \u001b[0mj\u001b[0m\u001b[0;34m+=\u001b[0m\u001b[0;36m1\u001b[0m\u001b[0;34m\u001b[0m\u001b[0;34m\u001b[0m\u001b[0m\n\u001b[1;32m      8\u001b[0m     \u001b[0;32mif\u001b[0m\u001b[0;34m(\u001b[0m\u001b[0mj\u001b[0m\u001b[0;34m==\u001b[0m\u001b[0;36m31\u001b[0m\u001b[0;34m)\u001b[0m\u001b[0;34m:\u001b[0m \u001b[0mj\u001b[0m \u001b[0;34m=\u001b[0m \u001b[0;36m0\u001b[0m\u001b[0;34m\u001b[0m\u001b[0;34m\u001b[0m\u001b[0m\n",
            "\u001b[0;31mIndexError\u001b[0m: index 29 is out of bounds for dimension 0 with size 5"
          ],
          "ename": "IndexError",
          "evalue": "index 29 is out of bounds for dimension 0 with size 5",
          "output_type": "error"
        }
      ],
      "execution_count": null
    },
    {
      "cell_type": "code",
      "source": [
        "print(train_data[11115])"
      ],
      "metadata": {
        "trusted": true,
        "execution": {
          "iopub.status.busy": "2025-01-22T03:32:25.541001Z",
          "iopub.execute_input": "2025-01-22T03:32:25.541399Z",
          "iopub.status.idle": "2025-01-22T03:32:25.555326Z",
          "shell.execute_reply.started": "2025-01-22T03:32:25.541371Z",
          "shell.execute_reply": "2025-01-22T03:32:25.554033Z"
        },
        "id": "oB6ooULX-4p6",
        "outputId": "5563485d-16f2-4496-828c-814bf0f8f4ce"
      },
      "outputs": [
        {
          "name": "stdout",
          "text": "(tensor([[[-0.3412, -0.4980, -0.4902,  ..., -0.1294,  0.4588,  1.0000],\n         [-0.3569, -0.5294, -0.4980,  ..., -0.1608,  0.0824,  0.9451],\n         [-0.4353, -0.5216, -0.4118,  ..., -0.2235, -0.0902,  0.7333],\n         ...,\n         [-0.4745, -0.4353, -0.4275,  ..., -0.5216, -0.6157, -0.7961],\n         [-0.4588, -0.4588, -0.4510,  ..., -0.4902, -0.5843, -0.8039],\n         [-0.5373, -0.4353, -0.4275,  ..., -0.4824, -0.5843, -0.8118]]]), 3)\n",
          "output_type": "stream"
        }
      ],
      "execution_count": null
    },
    {
      "cell_type": "code",
      "source": [
        "\n",
        "import torch.nn as nn\n",
        "import torch.nn.functional as f\n",
        "\n",
        "class MyCNN(nn.Module):\n",
        "    def __init__(self):\n",
        "        super(MyCNN,self).__init__()\n",
        "        self.conv1 = nn.Conv2d(1, 32, kernel_size = 3, padding = 1)\n",
        "        self.bn1 = nn.BatchNorm2d(32)\n",
        "        self.conv2 = nn.Conv2d(32, 64, kernel_size = 3, padding = 1)\n",
        "        self.bn2 = nn.BatchNorm2d(64)\n",
        "        self.conv3 = nn.Conv2d(64, 128, kernel_size = 3, padding = 1)\n",
        "        self.bn3 = nn.BatchNorm2d(128)\n",
        "        self.fc1 = nn.Linear(128*6*6, 256)\n",
        "        self.fc2 = nn.Linear(256,128)\n",
        "        self.fc3 = nn.Linear(128, 64)\n",
        "        self.fc4 = nn.Linear(64, 7)\n",
        "        self.max_pool = nn.MaxPool2d(2,2)\n",
        "        self.relu = nn.ReLU()\n",
        "        #self.dropout = nn.Dropout(0.2)\n",
        "\n",
        "    def forward(self,x):\n",
        "        x = f.relu(self.bn1(self.conv1(x)))\n",
        "        x = self.max_pool(x)\n",
        "        #x = self.dropout(x)\n",
        "        x = f.relu(self.bn2(self.conv2(x)))\n",
        "        x = self.max_pool(x)\n",
        "        #x = self.dropout(x)\n",
        "        x = f.relu(self.bn3(self.conv3(x)))\n",
        "        x = self.max_pool(x)\n",
        "        #x = self.dropout(x)\n",
        "\n",
        "        x = x.view(x.size(0),-1)\n",
        "        x = f.relu(self.fc1(x))\n",
        "        x = f.relu(self.fc2(x))\n",
        "        x = f.relu(self.fc3(x))\n",
        "        x = self.fc4(x)\n",
        "        return x\n",
        "\n",
        "\n",
        "\n",
        "emotion_CNN = MyCNN()\n"
      ],
      "metadata": {
        "trusted": true,
        "execution": {
          "iopub.status.busy": "2025-01-22T05:33:12.346121Z",
          "iopub.execute_input": "2025-01-22T05:33:12.346481Z",
          "iopub.status.idle": "2025-01-22T05:33:12.364705Z",
          "shell.execute_reply.started": "2025-01-22T05:33:12.346452Z",
          "shell.execute_reply": "2025-01-22T05:33:12.363596Z"
        },
        "id": "gV4CzqLZ-4p6"
      },
      "outputs": [],
      "execution_count": null
    },
    {
      "cell_type": "markdown",
      "source": [
        "Adding loss function - cross entropy loss + adam as optimizer"
      ],
      "metadata": {
        "id": "iR2lwDs2-4p6"
      }
    },
    {
      "cell_type": "code",
      "source": [
        "import torch.optim as optim\n",
        "\n",
        "loss_f = nn.CrossEntropyLoss()\n",
        "optimizer = optim.Adam(emotion_CNN.parameters(),lr=0.01)"
      ],
      "metadata": {
        "trusted": true,
        "execution": {
          "iopub.status.busy": "2025-01-22T05:33:16.211773Z",
          "iopub.execute_input": "2025-01-22T05:33:16.212173Z",
          "iopub.status.idle": "2025-01-22T05:33:16.21714Z",
          "shell.execute_reply.started": "2025-01-22T05:33:16.212142Z",
          "shell.execute_reply": "2025-01-22T05:33:16.215975Z"
        },
        "id": "b8ADXu19-4p7"
      },
      "outputs": [],
      "execution_count": null
    },
    {
      "cell_type": "code",
      "source": [
        "num_epochs = 25\n",
        "############### YOUR CODE STARTS HERE ####################\n",
        "\n",
        "for epoch in range(num_epochs):\n",
        "\n",
        "    running_loss = 0.0\n",
        "    for i, data in enumerate(train_loader, 0):\n",
        "        # get the inputs; data is a list of [inputs, labels]\n",
        "        inputs, labels = data\n",
        "\n",
        "        # zero the parameter gradients\n",
        "        optimizer.zero_grad()\n",
        "\n",
        "        # TODO: forward + backward + optimize\n",
        "        outputs = emotion_CNN(inputs)\n",
        "        loss = loss_f(outputs,labels)\n",
        "        loss.backward()\n",
        "        optimizer.step()\n",
        "\n",
        "        # print statistics\n",
        "        running_loss += loss.item()\n",
        "        if i % 200 == 199:    # print every 200 mini-batches\n",
        "            print(f'[{epoch + 1}, {i + 1:5d}] loss: {running_loss / 250:.3f}')\n",
        "            running_loss = 0.0\n",
        "\n",
        "################# YOUR CODE ENDS HERE #################\n",
        "print('Finished Training')"
      ],
      "metadata": {
        "trusted": true,
        "execution": {
          "iopub.status.busy": "2025-01-22T05:42:55.959064Z",
          "iopub.execute_input": "2025-01-22T05:42:55.959443Z",
          "iopub.status.idle": "2025-01-22T06:40:03.796653Z",
          "shell.execute_reply.started": "2025-01-22T05:42:55.959414Z",
          "shell.execute_reply": "2025-01-22T06:40:03.7955Z"
        },
        "id": "QAde1e2k-4p7",
        "outputId": "d59893da-c410-4549-b296-e47dd1e75c66"
      },
      "outputs": [
        {
          "name": "stdout",
          "text": "[1,   200] loss: 1.292\n[1,   400] loss: 1.201\n[1,   600] loss: 1.157\n[1,   800] loss: 1.116\n[2,   200] loss: 1.073\n[2,   400] loss: 1.043\n[2,   600] loss: 1.036\n[2,   800] loss: 1.015\n[3,   200] loss: 0.977\n[3,   400] loss: 0.988\n[3,   600] loss: 0.964\n[3,   800] loss: 0.960\n[4,   200] loss: 0.932\n[4,   400] loss: 0.929\n[4,   600] loss: 0.934\n[4,   800] loss: 0.914\n[5,   200] loss: 0.891\n[5,   400] loss: 0.895\n[5,   600] loss: 0.884\n[5,   800] loss: 0.890\n[6,   200] loss: 0.850\n[6,   400] loss: 0.846\n[6,   600] loss: 0.856\n[6,   800] loss: 0.861\n[7,   200] loss: 0.802\n[7,   400] loss: 0.828\n[7,   600] loss: 0.832\n[7,   800] loss: 0.817\n[8,   200] loss: 0.784\n[8,   400] loss: 0.783\n[8,   600] loss: 0.796\n[8,   800] loss: 0.770\n[9,   200] loss: 0.739\n[9,   400] loss: 0.756\n[9,   600] loss: 0.768\n[9,   800] loss: 0.772\n[10,   200] loss: 0.714\n[10,   400] loss: 0.726\n[10,   600] loss: 0.735\n[10,   800] loss: 0.738\n[11,   200] loss: 0.683\n[11,   400] loss: 0.697\n[11,   600] loss: 0.728\n[11,   800] loss: 0.712\n[12,   200] loss: 0.656\n[12,   400] loss: 0.672\n[12,   600] loss: 0.679\n[12,   800] loss: 0.687\n[13,   200] loss: 0.635\n[13,   400] loss: 0.661\n[13,   600] loss: 0.663\n[13,   800] loss: 0.675\n[14,   200] loss: 0.628\n[14,   400] loss: 0.620\n[14,   600] loss: 0.639\n[14,   800] loss: 0.645\n[15,   200] loss: 0.599\n[15,   400] loss: 0.609\n[15,   600] loss: 0.623\n[15,   800] loss: 0.629\n[16,   200] loss: 0.596\n[16,   400] loss: 0.604\n[16,   600] loss: 0.592\n[16,   800] loss: 0.596\n[17,   200] loss: 0.552\n[17,   400] loss: 0.577\n[17,   600] loss: 0.590\n[17,   800] loss: 0.590\n[18,   200] loss: 0.549\n[18,   400] loss: 0.558\n[18,   600] loss: 0.572\n[18,   800] loss: 0.586\n[19,   200] loss: 0.528\n[19,   400] loss: 0.543\n[19,   600] loss: 0.550\n[19,   800] loss: 0.561\n[20,   200] loss: 0.512\n[20,   400] loss: 0.532\n[20,   600] loss: 0.529\n[20,   800] loss: 0.549\n[21,   200] loss: 0.491\n[21,   400] loss: 0.522\n[21,   600] loss: 0.538\n[21,   800] loss: 0.546\n[22,   200] loss: 0.489\n[22,   400] loss: 0.508\n[22,   600] loss: 0.513\n[22,   800] loss: 0.502\n[23,   200] loss: 0.465\n[23,   400] loss: 0.496\n[23,   600] loss: 0.491\n[23,   800] loss: 0.516\n[24,   200] loss: 0.474\n[24,   400] loss: 0.476\n[24,   600] loss: 0.480\n[24,   800] loss: 0.511\n[25,   200] loss: 0.460\n[25,   400] loss: 0.479\n[25,   600] loss: 0.488\n[25,   800] loss: 0.491\nFinished Training\n",
          "output_type": "stream"
        }
      ],
      "execution_count": null
    },
    {
      "cell_type": "code",
      "source": [],
      "metadata": {
        "trusted": true,
        "id": "XinG5LOf-4p7"
      },
      "outputs": [],
      "execution_count": null
    },
    {
      "cell_type": "code",
      "source": [
        "correct = 0\n",
        "total = 0\n",
        "# since we're not training, we don't need to calculate the gradients for our outputs\n",
        "with torch.no_grad():\n",
        "    for data in test_loader:\n",
        "        images, labels = data\n",
        "        # calculate outputs by running images through the network\n",
        "        outputs = emotion_CNN(images)\n",
        "        # the class with the highest energy is what we choose as prediction\n",
        "        _, predicted = torch.max(outputs.data, 1)\n",
        "        total += labels.size(0)\n",
        "        correct += (predicted == labels).sum().item()\n",
        "\n",
        "print(f'Accuracy on the test images: {100 * correct // total} %')"
      ],
      "metadata": {
        "trusted": true,
        "execution": {
          "iopub.status.busy": "2025-01-22T07:08:51.83328Z",
          "iopub.execute_input": "2025-01-22T07:08:51.833649Z",
          "iopub.status.idle": "2025-01-22T07:09:36.624263Z",
          "shell.execute_reply.started": "2025-01-22T07:08:51.833615Z",
          "shell.execute_reply": "2025-01-22T07:09:36.62327Z"
        },
        "id": "6JvINAtC-4p7",
        "outputId": "ef0c7c39-a0ee-4b85-90e9-b5f453e98e86"
      },
      "outputs": [
        {
          "name": "stdout",
          "text": "Accuracy on the test images: 54 %\n",
          "output_type": "stream"
        }
      ],
      "execution_count": null
    },
    {
      "cell_type": "code",
      "source": [
        "# count predictions for each class as task is multimodal classification\n",
        "classes =('Angry', 'Disgust', 'Fear','Happy', 'Sad', 'Surprise', 'Neutral')\n",
        "correct_pred = {classname: 0 for classname in classes}\n",
        "total_pred = {classname: 0 for classname in classes}\n",
        "\n",
        "# again no gradients needed\n",
        "with torch.no_grad():\n",
        "    for data in test_loader:\n",
        "        images, labels = data\n",
        "        outputs = emotion_CNN(images)\n",
        "        _, predictions = torch.max(outputs, 1)\n",
        "        # collect the correct predictions for each class\n",
        "        for label, prediction in zip(labels, predictions):\n",
        "            if(label == prediction):\n",
        "              correct_pred[classes[label]] += 1\n",
        "            total_pred[classes[label]] += 1\n",
        "\n",
        "\n",
        "# print accuracy for each class\n",
        "for classname, correct_count in correct_pred.items():\n",
        "    accuracy = 100 * float(correct_count) / total_pred[classname]\n",
        "    print(f'Accuracy for class: {classname:5s} is {accuracy:.1f} %')"
      ],
      "metadata": {
        "trusted": true,
        "execution": {
          "iopub.status.busy": "2025-01-22T07:11:59.658292Z",
          "iopub.execute_input": "2025-01-22T07:11:59.658669Z",
          "iopub.status.idle": "2025-01-22T07:12:35.220479Z",
          "shell.execute_reply.started": "2025-01-22T07:11:59.658638Z",
          "shell.execute_reply": "2025-01-22T07:12:35.21941Z"
        },
        "id": "dRxILy_B-4p7",
        "outputId": "f7616ac2-2729-47c9-d789-28dfb24298f9"
      },
      "outputs": [
        {
          "name": "stdout",
          "text": "Accuracy for class: Angry is 39.5 %\nAccuracy for class: Disgust is 31.5 %\nAccuracy for class: Fear  is 28.2 %\nAccuracy for class: Happy is 79.6 %\nAccuracy for class: Sad   is 59.1 %\nAccuracy for class: Surprise is 41.5 %\nAccuracy for class: Neutral is 60.4 %\n",
          "output_type": "stream"
        }
      ],
      "execution_count": null
    },
    {
      "cell_type": "code",
      "source": [
        "#CONFUSION MATRIX\n",
        "from sklearn.metrics import confusion_matrix, ConfusionMatrixDisplay\n",
        "all_preds = []\n",
        "all_labels = []\n",
        "\n",
        "with torch.no_grad():\n",
        "    for images, labels in test_loader:\n",
        "        outputs = emotion_CNN(images)\n",
        "        _, predicted = torch.max(outputs.data, 1)\n",
        "        all_preds.extend(predicted.cpu().numpy())\n",
        "        all_labels.extend(labels.cpu().numpy())\n",
        "\n",
        "# Calculate confusion matrix\n",
        "cm = confusion_matrix(all_labels, all_preds)\n",
        "disp = ConfusionMatrixDisplay(confusion_matrix=cm, display_labels=['Angry', 'Disgust', 'Fear','Happy', 'Sad', 'Surprise', 'Neutral'])\n",
        "\n",
        "# Plot confusion matrix\n",
        "disp.plot(cmap=plt.cm.Blues)\n",
        "plt.show()"
      ],
      "metadata": {
        "trusted": true,
        "execution": {
          "iopub.status.busy": "2025-01-22T07:16:01.695557Z",
          "iopub.execute_input": "2025-01-22T07:16:01.695984Z",
          "iopub.status.idle": "2025-01-22T07:16:42.181643Z",
          "shell.execute_reply.started": "2025-01-22T07:16:01.695951Z",
          "shell.execute_reply": "2025-01-22T07:16:42.180444Z"
        },
        "id": "LKdCe3RI-4p7",
        "outputId": "648b47a3-525a-4602-ddbf-fb4af1525254"
      },
      "outputs": [
        {
          "output_type": "display_data",
          "data": {
            "text/plain": "<Figure size 640x480 with 2 Axes>",
            "image/png": "[encoded data removed]"
          },
          "metadata": {}
        }
      ],
      "execution_count": null
    }
  ]
}